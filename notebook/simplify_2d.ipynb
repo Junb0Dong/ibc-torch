{
 "cells": [
  {
   "cell_type": "markdown",
   "id": "e2116e5c",
   "metadata": {},
   "source": [
    "# 2D 实验的notebook"
   ]
  },
  {
   "cell_type": "markdown",
   "id": "0ec8b257",
   "metadata": {},
   "source": [
    "1. 加载数据集\n",
    "2. 定义模型\n",
    "3. 开始训练\n",
    "4. 评估"
   ]
  },
  {
   "cell_type": "markdown",
   "id": "e53e67b3",
   "metadata": {},
   "source": [
    "还要对比explicit和implicit，先搭一个implicit的框架，后面再慢慢优化。"
   ]
  },
  {
   "cell_type": "markdown",
   "id": "710068a1",
   "metadata": {},
   "source": [
    "## 加载数据集\n",
    "- 数据集和验证集配置\n",
    "- 分割数据集和验证集"
   ]
  },
  {
   "cell_type": "code",
   "execution_count": 1,
   "id": "4315ee06",
   "metadata": {},
   "outputs": [
    {
     "name": "stderr",
     "output_type": "stream",
     "text": [
      "/home/ps/anaconda3/envs/ibc/lib/python3.8/site-packages/tqdm/auto.py:21: TqdmWarning: IProgress not found. Please update jupyter and ipywidgets. See https://ipywidgets.readthedocs.io/en/stable/user_install.html\n",
      "  from .autonotebook import tqdm as notebook_tqdm\n"
     ]
    }
   ],
   "source": [
    "import torch\n",
    "import os\n",
    "import sys\n",
    "import numpy as np\n",
    "import matplotlib.pyplot as plt\n",
    "\n",
    "notebook_dir = os.path.dirname(os.path.abspath(\"__file__\"))\n",
    "ibc_parent_dir = os.path.abspath(os.path.join(notebook_dir, \"..\"))\n",
    "sys.path.append(ibc_parent_dir)\n",
    "\n",
    "from tqdm.auto import tqdm\n",
    "from ibc import dataset, models, optimizers, trainer, utils\n",
    "from scipy.spatial import ConvexHull\n",
    "from ibc.trainer import PolicyType\n",
    "from ibc import dataset_2d"
   ]
  },
  {
   "cell_type": "markdown",
   "id": "ee6ec31a",
   "metadata": {},
   "source": [
    "许多超参需要调整，在这里调整吧"
   ]
  },
  {
   "cell_type": "markdown",
   "id": "639e473a",
   "metadata": {},
   "source": [
    "dataset的超参设置"
   ]
  },
  {
   "cell_type": "code",
   "execution_count": 2,
   "id": "68a3b56b",
   "metadata": {},
   "outputs": [],
   "source": [
    "experiment_name = \"implicit_step_30\" # custom experiment name\n",
    "custom_seed = 42 # custom seed\n",
    "\n",
    "train_dataset_size = 30 # custom dataset size\n",
    "train_batch_size = 8\n",
    "trian_num_workers = 1\n",
    "\n",
    "test_dataset_size = 500\n",
    "test_batch_size = 8\n",
    "test_num_workers = 1\n"
   ]
  },
  {
   "cell_type": "markdown",
   "id": "73e04edb",
   "metadata": {},
   "source": [
    "训练的超参设置"
   ]
  },
  {
   "cell_type": "code",
   "execution_count": 3,
   "id": "01574cc4",
   "metadata": {},
   "outputs": [],
   "source": [
    "# in_channels = 1 # 不需要卷积了吧，直接使用MLP试试\n",
    "spatial_reduction = models.SpatialReduction.SPATIAL_SOFTMAX\n",
    "policy_type = PolicyType\n",
    "custom_dropout_prob = 0.1\n",
    "custom_learning_rate = 0.001\n",
    "custom_weight_decay = 0.0001\n",
    "\n",
    "epoch = 5000\n",
    "implicit = True # 选择显式or隐式\n",
    "if implicit:\n",
    "    policy_type = trainer.PolicyType.IMPLICIT\n",
    "else:\n",
    "    policy_type = trainer.PolicyType.EXPLICIT"
   ]
  },
  {
   "cell_type": "code",
   "execution_count": 4,
   "id": "19f33ac5",
   "metadata": {},
   "outputs": [
    {
     "name": "stdout",
     "output_type": "stream",
     "text": [
      "Resampled 30 data points.\n"
     ]
    }
   ],
   "source": [
    "train_dataset_config = dataset_2d.ToyDatasetConfig(\n",
    "    dataset_size=train_dataset_size,\n",
    "    seed=custom_seed,\n",
    "    mode = 'step',    \n",
    ")\n",
    "train_dataset = dataset_2d.Toy1DDataset(train_dataset_config)  # data: coordinate regression shape:（N,2)\n",
    "train_dataloader = torch.utils.data.DataLoader(\n",
    "    train_dataset,\n",
    "    batch_size=train_batch_size,\n",
    "    shuffle=True,\n",
    "    num_workers=trian_num_workers,\n",
    "    pin_memory=torch.cuda.is_available(),\n",
    ")\n",
    "\n",
    "# Test split.\n",
    "test_dataset_config = dataset_2d.ToyDatasetConfig(\n",
    "    dataset_size=test_dataset_size,\n",
    "    seed=custom_seed, \n",
    "    mode = 'step',\n",
    ")\n",
    "test_dataset = dataset_2d.Toy1DDataset(test_dataset_config)\n",
    "test_dataset.exclude(train_dataset.coordinates) # 防止测试集中包含训练集的数据\n",
    "test_dataloader = torch.utils.data.DataLoader(\n",
    "    test_dataset,\n",
    "    batch_size=test_batch_size,\n",
    "    shuffle=False,\n",
    "    num_workers=test_num_workers,\n",
    "    pin_memory=torch.cuda.is_available(),\n",
    ")"
   ]
  },
  {
   "cell_type": "code",
   "execution_count": 5,
   "id": "5f2837c6",
   "metadata": {},
   "outputs": [
    {
     "name": "stdout",
     "output_type": "stream",
     "text": [
      "[[0.]\n",
      " [1.]]\n"
     ]
    }
   ],
   "source": [
    "print(train_dataloader.dataset.get_target_bounds())"
   ]
  },
  {
   "cell_type": "code",
   "execution_count": 6,
   "id": "b52acd52",
   "metadata": {},
   "outputs": [
    {
     "name": "stderr",
     "output_type": "stream",
     "text": [
      "No artists with labels found to put in legend.  Note that artists whose label start with an underscore are ignored when legend() is called with no argument.\n"
     ]
    },
    {
     "name": "stdout",
     "output_type": "stream",
     "text": [
      "batch的类型: <class 'list'>\n",
      "batch包含的元素数量: 2\n",
      "batch[0].shape:torch.Size([8, 1])\n",
      "batch[1].shape:torch.Size([8, 1])\n",
      "x = torch.Size([1])\n",
      "y = torch.Size([1])\n"
     ]
    },
    {
     "data": {
      "image/png": "[encoded data removed]",
      "text/plain": [
       "<Figure size 640x480 with 1 Axes>"
      ]
     },
     "metadata": {},
     "output_type": "display_data"
    }
   ],
   "source": [
    "batch = next(iter(train_dataloader))    # 可以更改为test_dataloader查看测试集的shape\n",
    "\n",
    "print(\"batch的类型:\", type(batch))  # data + label\n",
    "print(\"batch包含的元素数量:\", len(batch))\n",
    "\n",
    "for i in range(len(batch)):\n",
    "    print(\"batch[{}].shape:{}\".format(i, batch[i].shape))\n",
    "\n",
    "# Visualize one instance.\n",
    "x, y = train_dataset[np.random.randint(len(train_dataset))]\n",
    "print(\"x =\", x.shape)\n",
    "print(\"y =\", y.shape)\n",
    "\n",
    "xs = train_dataset.coordinates.flatten()\n",
    "ys = train_dataset.targets  # shape (N, 3) for circle_with_line\n",
    "\n",
    "plt.figure()\n",
    "\n",
    "if ys.ndim == 1 or ys.shape[1] == 1:\n",
    "    # 普通 1D 情况\n",
    "    plt.scatter(xs, ys.flatten(), marker=\"x\", c=\"blue\", alpha=0.6)\n",
    "\n",
    "else:\n",
    "    # 分别绘制 line / upper_arc / lower_arc\n",
    "    plt.scatter(xs, ys[:, 0], marker=\"x\", c=\"black\", alpha=0.6, label=\"line\")\n",
    "    plt.scatter(xs, ys[:, 1], marker=\"o\", c=\"blue\", alpha=0.6, label=\"upper arc\")\n",
    "    plt.scatter(xs, ys[:, 2], marker=\"o\", c=\"green\", alpha=0.6, label=\"lower arc\")\n",
    "\n",
    "plt.title(f\"Toy1DDataset - {train_dataset.mode}\")\n",
    "plt.xlabel(\"x\")\n",
    "plt.ylabel(\"y\")\n",
    "plt.legend()\n",
    "plt.show()\n"
   ]
  },
  {
   "cell_type": "code",
   "execution_count": 7,
   "id": "36c3c1f3",
   "metadata": {},
   "outputs": [
    {
     "name": "stderr",
     "output_type": "stream",
     "text": [
      "No artists with labels found to put in legend.  Note that artists whose label start with an underscore are ignored when legend() is called with no argument.\n"
     ]
    },
    {
     "name": "stdout",
     "output_type": "stream",
     "text": [
      "batch的类型: <class 'list'>\n",
      "batch包含的元素数量: 2\n",
      "batch[0].shape:torch.Size([8, 1])\n",
      "batch[1].shape:torch.Size([8, 1])\n",
      "x = torch.Size([1])\n",
      "y = torch.Size([1])\n",
      "x = tensor([0.7257])\n",
      "y = tensor([1.])\n"
     ]
    },
    {
     "data": {
      "image/png": "[encoded data removed]",
      "text/plain": [
       "<Figure size 640x480 with 1 Axes>"
      ]
     },
     "metadata": {},
     "output_type": "display_data"
    }
   ],
   "source": [
    "batch = next(iter(test_dataloader)) \n",
    "\n",
    "print(\"batch的类型:\", type(batch))  # data + label\n",
    "print(\"batch包含的元素数量:\", len(batch))\n",
    "\n",
    "for i in range(len(batch)):\n",
    "    print(\"batch[{}].shape:{}\".format(i, batch[i].shape))\n",
    "\n",
    "x, y = test_dataset[np.random.randint(len(train_dataset))]\n",
    "print(\"x =\", x.shape)\n",
    "print(\"y =\", y.shape)\n",
    "print(\"x =\", x)\n",
    "print(\"y =\", y)\n",
    "\n",
    "xs = test_dataset.coordinates.flatten()\n",
    "ys = test_dataset.targets  # shape (N, 3) for circle_with_line\n",
    "\n",
    "plt.figure()\n",
    "\n",
    "if ys.ndim == 1 or ys.shape[1] == 1:\n",
    "    # 普通 1D 情况\n",
    "    plt.scatter(xs, ys.flatten(), marker=\"x\", c=\"blue\", alpha=0.6)\n",
    "\n",
    "else:\n",
    "    # 分别绘制 line / upper_arc / lower_arc\n",
    "    plt.scatter(xs, ys[:, 0], marker=\"x\", c=\"black\", alpha=0.6, label=\"line\")\n",
    "    plt.scatter(xs, ys[:, 1], marker=\"o\", c=\"blue\", alpha=0.6, label=\"upper arc\")\n",
    "    plt.scatter(xs, ys[:, 2], marker=\"o\", c=\"green\", alpha=0.6, label=\"lower arc\")\n",
    "\n",
    "plt.title(f\"Toy1DDataset - {train_dataset.mode}\")\n",
    "plt.xlabel(\"x\")\n",
    "plt.ylabel(\"y\")\n",
    "plt.legend()\n",
    "plt.show()\n"
   ]
  },
  {
   "cell_type": "markdown",
   "id": "4ad2ae8b",
   "metadata": {},
   "source": [
    "## 构造网络模型"
   ]
  },
  {
   "cell_type": "markdown",
   "id": "9faa282f",
   "metadata": {},
   "source": [
    "**配置网络参数**"
   ]
  },
  {
   "cell_type": "markdown",
   "id": "467c9cfb",
   "metadata": {},
   "source": [
    "网络与优化器配置："
   ]
  },
  {
   "cell_type": "code",
   "execution_count": 8,
   "id": "713d7733",
   "metadata": {},
   "outputs": [
    {
     "name": "stdout",
     "output_type": "stream",
     "text": [
      "input dimension: 2\n",
      "output dimension: 1\n"
     ]
    }
   ],
   "source": [
    "# residual_blocks = [16, 32, 32]  # 残差块的数量和通道数\n",
    "# cnn_config = models.CNNConfig(in_channels, residual_blocks) # CNN配置\n",
    "# print(\"in channels:\", in_channels)\n",
    "\n",
    "input_dim = 1  # We have a 1x1 conv that reduces to 16 channels.\n",
    "output_dim = 1\n",
    "if train_dataset_config.mode == 'circle_line':\n",
    "    output_dim = 3\n",
    "# if spatial_reduction == models.SpatialReduction.SPATIAL_SOFTMAX:\n",
    "#     input_dim *= 2\n",
    "if policy_type == trainer.PolicyType.IMPLICIT:\n",
    "    input_dim += output_dim  # Dimension of the targets. o+a\n",
    "\n",
    "print(\"input dimension:\", input_dim)\n",
    "print(\"output dimension:\", output_dim)\n",
    "\n",
    "mlp_config = models.MLPConfig(\n",
    "    input_dim=input_dim,\n",
    "    hidden_dim=512,\n",
    "    output_dim=output_dim,\n",
    "    hidden_depth=2,\n",
    "    dropout_prob=custom_dropout_prob,\n",
    ")\n",
    "\n",
    "# model_config = models.ConvMLPConfig(\n",
    "#     cnn_config=cnn_config,\n",
    "#     mlp_config=mlp_config,\n",
    "#     spatial_reduction=spatial_reduction,\n",
    "#     coord_conv=coord_conv,\n",
    "# )\n",
    "\n",
    "optim_config = optimizers.OptimizerConfig(\n",
    "    learning_rate=custom_learning_rate,\n",
    "    weight_decay=custom_weight_decay,\n",
    ")"
   ]
  },
  {
   "cell_type": "markdown",
   "id": "682e0f24",
   "metadata": {},
   "source": [
    "打印配置："
   ]
  },
  {
   "cell_type": "code",
   "execution_count": 9,
   "id": "19f903a6",
   "metadata": {},
   "outputs": [
    {
     "name": "stdout",
     "output_type": "stream",
     "text": [
      "mlp_config: MLPConfig(input_dim=2, hidden_dim=512, output_dim=1, hidden_depth=2, dropout_prob=0.1, activation_fn=<ActivationType.RELU: <class 'torch.nn.modules.activation.ReLU'>>)\n",
      "optim_config: OptimizerConfig(learning_rate=0.001, weight_decay=0.0001, beta1=0.9, beta2=0.999, lr_scheduler_step=100, lr_scheduler_gamma=0.99)\n",
      "The network structure is: \n",
      " EBMMLP(\n",
      "  (net): Sequential(\n",
      "    (0): Linear(in_features=2, out_features=512, bias=True)\n",
      "    (1): ReLU()\n",
      "    (2): Dropout(p=0.1, inplace=False)\n",
      "    (3): Linear(in_features=512, out_features=512, bias=True)\n",
      "    (4): ReLU()\n",
      "    (5): Dropout(p=0.1, inplace=False)\n",
      "    (6): Linear(in_features=512, out_features=1, bias=True)\n",
      "  )\n",
      ")\n",
      "The whole network has 264705 parameters\n"
     ]
    }
   ],
   "source": [
    "print(\"mlp_config:\", mlp_config)\n",
    "print(\"optim_config:\", optim_config)\n",
    "net = models.EBMMLP(mlp_config)\n",
    "print(\"The network structure is: \\n\", net)\n",
    "print(\"The whole network has {} parameters\".format(sum(p.numel() for p in net.parameters())))"
   ]
  },
  {
   "cell_type": "markdown",
   "id": "c4e241f7",
   "metadata": {},
   "source": [
    "创建训练进程："
   ]
  },
  {
   "cell_type": "code",
   "execution_count": 10,
   "id": "e54d6b8c",
   "metadata": {},
   "outputs": [
    {
     "name": "stdout",
     "output_type": "stream",
     "text": [
      "Using device: cuda\n"
     ]
    }
   ],
   "source": [
    "train_state: trainer.TrainStateProtocol\n",
    "if policy_type == trainer.PolicyType.EXPLICIT:\n",
    "    train_state = trainer.ExplicitTrainState2D.initialize(\n",
    "        model_config=mlp_config,\n",
    "        optim_config=optim_config,\n",
    "        device_type=\"cuda\",\n",
    "    )\n",
    "else:\n",
    "    target_bounds = train_dataloader.dataset.get_target_bounds()\n",
    "    stochastic_optim_config = optimizers.DerivativeFreeConfig(\n",
    "        bounds=target_bounds,\n",
    "        train_samples=128,\n",
    "    )\n",
    "\n",
    "    train_state = trainer.ImplicitTrainState2D.initialize(\n",
    "        model_config=mlp_config,\n",
    "        optim_config=optim_config,\n",
    "        stochastic_optim_config=stochastic_optim_config,\n",
    "        device_type=\"cuda\",\n",
    "    )"
   ]
  },
  {
   "cell_type": "markdown",
   "id": "96972d6c",
   "metadata": {},
   "source": [
    "把训练的细节搬到这里"
   ]
  },
  {
   "cell_type": "markdown",
   "id": "4ab74043",
   "metadata": {},
   "source": [
    "## 开始训练"
   ]
  },
  {
   "cell_type": "code",
   "execution_count": 11,
   "id": "c4d56a84",
   "metadata": {},
   "outputs": [],
   "source": [
    "from ibc.experiment import Experiment\n",
    "experiment = Experiment(\n",
    "    identifier = experiment_name, # custom experiment name\n",
    ").assert_new()\n",
    "\n",
    "checkpoint_every_n_steps = 100\n",
    "eval_every_n_steps = 1000\n",
    "log_every_n_steps = 10"
   ]
  },
  {
   "cell_type": "code",
   "execution_count": 12,
   "id": "c51171d0",
   "metadata": {},
   "outputs": [
    {
     "name": "stdout",
     "output_type": "stream",
     "text": [
      "input: torch.Size([8, 1])\n",
      "target: torch.Size([8, 1])\n"
     ]
    }
   ],
   "source": [
    "input, target = batch\n",
    "print(\"input:\", input.shape)\n",
    "print(\"target:\", target.shape)"
   ]
  },
  {
   "cell_type": "code",
   "execution_count": 13,
   "id": "3e60f96c",
   "metadata": {},
   "outputs": [
    {
     "name": "stderr",
     "output_type": "stream",
     "text": [
      "100%|██████████| 5000/5000 [02:28<00:00, 33.69it/s]\n"
     ]
    }
   ],
   "source": [
    "for epoch in tqdm(range(epoch)):\n",
    "    if not train_state.steps % checkpoint_every_n_steps:\n",
    "        experiment.save_checkpoint(train_state, step=train_state.steps)\n",
    "\n",
    "    if not train_state.steps % eval_every_n_steps:\n",
    "        test_log_data = train_state.evaluate(test_dataloader)\n",
    "        experiment.log(test_log_data, step=train_state.steps)\n",
    "\n",
    "    for batch in train_dataloader:\n",
    "        train_log_data = train_state.training_step(*batch)\n",
    "\n",
    "        # Log to tensorboard.\n",
    "        if not train_state.steps % log_every_n_steps:\n",
    "            experiment.log(train_log_data, step=train_state.steps)\n",
    "\n",
    "# Save one final checkpoint.\n",
    "experiment.save_checkpoint(train_state, step=train_state.steps)"
   ]
  },
  {
   "cell_type": "markdown",
   "id": "510af043",
   "metadata": {},
   "source": [
    "## Evaluation"
   ]
  },
  {
   "cell_type": "code",
   "execution_count": 14,
   "id": "7b7269c4",
   "metadata": {},
   "outputs": [],
   "source": [
    "import dataclasses\n",
    "import pathlib\n",
    "\n",
    "from plot import plot"
   ]
  },
  {
   "cell_type": "code",
   "execution_count": 15,
   "id": "f1ad36c7",
   "metadata": {},
   "outputs": [],
   "source": [
    "@dataclasses.dataclass\n",
    "class Args:\n",
    "    # experiment_name: experiment_name  # drop了，在后面的代码直接指定\n",
    "    plot_dir: str = \"assets\"\n",
    "    dpi: int = 200\n",
    "    threshold: float = 140\n",
    "\n",
    "dataset_test = test_dataloader.dataset\n",
    "dataset_train = train_dataloader.dataset\n",
    "assert isinstance(dataset_test, dataset_2d.Toy1DDataset)\n",
    "assert isinstance(dataset_train, dataset_2d.Toy1DDataset)"
   ]
  },
  {
   "cell_type": "code",
   "execution_count": 16,
   "id": "9cdba46b",
   "metadata": {},
   "outputs": [
    {
     "name": "stdout",
     "output_type": "stream",
     "text": [
      "输入x的形状: torch.Size([8, 1])\n",
      "标签y的形状: torch.Size([8, 1])\n"
     ]
    }
   ],
   "source": [
    "batch = next(iter(test_dataloader))\n",
    "# 假设第0个元素是输入x，第1个元素是标签y\n",
    "print(\"输入x的形状:\", batch[0].shape)\n",
    "print(\"标签y的形状:\", batch[1].shape)"
   ]
  },
  {
   "cell_type": "code",
   "execution_count": 17,
   "id": "ce57fff6",
   "metadata": {},
   "outputs": [
    {
     "name": "stderr",
     "output_type": "stream",
     "text": [
      "100%|██████████| 63/63 [00:01<00:00, 53.45it/s]"
     ]
    },
    {
     "name": "stdout",
     "output_type": "stream",
     "text": [
      "Test set MSE: 0.016 (492/500)\n"
     ]
    },
    {
     "name": "stderr",
     "output_type": "stream",
     "text": [
      "\n"
     ]
    }
   ],
   "source": [
    "total_mse = 0.0\n",
    "num_small_err = 0\n",
    "all_inputs = []\n",
    "all_preds = []\n",
    "all_targets = []\n",
    "\n",
    "for batch in tqdm(test_dataloader):\n",
    "    input, target = batch\n",
    "    prediction = train_state.predict(input).cpu().numpy()\n",
    "    target = target.cpu().numpy()\n",
    "\n",
    "    all_inputs.append(input.cpu().numpy())\n",
    "    all_preds.append(prediction)\n",
    "    all_targets.append(target)\n",
    "\n",
    "\n",
    "    # error\n",
    "    diff = prediction - target\n",
    "    error = np.asarray(np.linalg.norm(diff, axis=1))\n",
    "    num_small_err += len(error[error < 1.0])\n",
    "    total_mse += (diff ** 2).mean(axis=1).sum()\n",
    "\n",
    "\n",
    "total_test = len(dataset_test)\n",
    "average_mse = total_mse / total_test\n",
    "print(f\"Test set MSE: {average_mse} ({num_small_err}/{total_test})\")"
   ]
  },
  {
   "cell_type": "code",
   "execution_count": 18,
   "id": "bd81dad9",
   "metadata": {},
   "outputs": [
    {
     "name": "stdout",
     "output_type": "stream",
     "text": [
      "experiment_name: implicit_step_30\n"
     ]
    }
   ],
   "source": [
    "print(\"experiment_name:\", experiment.identifier)"
   ]
  },
  {
   "cell_type": "code",
   "execution_count": 19,
   "id": "6acf1f11",
   "metadata": {},
   "outputs": [
    {
     "name": "stderr",
     "output_type": "stream",
     "text": [
      "No artists with labels found to put in legend.  Note that artists whose label start with an underscore are ignored when legend() is called with no argument.\n"
     ]
    },
    {
     "data": {
      "image/png": "[encoded data removed]",
      "text/plain": [
       "<Figure size 640x480 with 1 Axes>"
      ]
     },
     "metadata": {},
     "output_type": "display_data"
    }
   ],
   "source": [
    "xs = np.concatenate(all_inputs, axis=0).flatten()\n",
    "ys_pred = np.concatenate(all_preds, axis=0)\n",
    "ys_target = np.concatenate(all_targets, axis=0)\n",
    "\n",
    "plt.figure()\n",
    "\n",
    "if ys.ndim == 1 or ys.shape[1] == 1:\n",
    "    # 普通 1D 情况\n",
    "    plt.scatter(xs, ys.flatten(), marker=\"x\", c=\"blue\", alpha=0.6)\n",
    "\n",
    "else:\n",
    "    # 分别绘制 line / upper_arc / lower_arc\n",
    "    plt.scatter(xs, ys_pred[:, 0], marker=\"o\", c=\"blue\", alpha=0.6, label = \"prediction\")\n",
    "    plt.scatter(xs, ys_pred[:, 1], marker=\"o\", c=\"blue\", alpha=0.6)\n",
    "    plt.scatter(xs, ys_pred[:, 2], marker=\"o\", c=\"blue\", alpha=0.6)\n",
    "    plt.scatter(xs, ys_target[:, 0], marker=\"x\", c=\"black\", alpha=0.6, label = \"ground truth\")\n",
    "    plt.scatter(xs, ys_target[:, 1], marker=\"x\", c=\"black\", alpha=0.6)\n",
    "    plt.scatter(xs, ys_target[:, 2], marker=\"x\", c=\"black\", alpha=0.6)\n",
    "\n",
    "\n",
    "# 4. 原有图表配置（保持不变，可补充图例）\n",
    "plt.title(f\"set-valued function  {train_dataset_config.mode}\")\n",
    "plt.xlabel(\"x (Input)\")       # 明确x轴含义（input值）\n",
    "plt.ylabel(\"y (Prediction / Target)\")  # 明确y轴含义（包含预测和目标）\n",
    "plt.legend()  # 显示图例（区分两组数据，关键！）\n",
    "\n",
    "plt.savefig(\n",
    "    f\"{experiment.identifier}_plot.png\",\n",
    "    dpi=300,\n",
    "    bbox_inches=\"tight\",\n",
    "    facecolor=\"white\"\n",
    ")\n",
    "\n",
    "# 最后显示图片\n",
    "plt.show()"
   ]
  },
  {
   "cell_type": "code",
   "execution_count": null,
   "id": "e3b0d019",
   "metadata": {},
   "outputs": [
    {
     "data": {
      "image/png": "[encoded data removed]",
      "text/plain": [
       "<Figure size 640x480 with 1 Axes>"
      ]
     },
     "metadata": {},
     "output_type": "display_data"
    }
   ],
   "source": [
    "# all_inputs, all_preds, all_targets 已经是每个 batch 的 numpy 数组\n",
    "xs = np.concatenate(all_inputs, axis=0).flatten()\n",
    "ys_pred = np.concatenate(all_preds, axis=0).flatten()\n",
    "ys_target = np.concatenate(all_targets, axis=0).flatten()\n",
    "\n",
    "# 2. 绘制第一组：input-x 与 prediction（原有逻辑，保持不变）\n",
    "plt.scatter(\n",
    "    xs, ys_pred, \n",
    "    marker=\"o\",    # 标记为\"x\"（区分目标值）\n",
    "    s=15,\n",
    "    c=\"blue\",      # 颜色为蓝色\n",
    "    alpha=0.9,     # 透明度0.6（避免重叠遮挡）\n",
    "    label=\"Prediction\"  # 标签（用于图例）\n",
    ")\n",
    "\n",
    "# 训练数据\n",
    "x_train = train_dataset.coordinates.flatten()\n",
    "y_train = train_dataset.targets.flatten()\n",
    "\n",
    "plt.scatter(\n",
    "    x_train, y_train, \n",
    "    marker=\"x\",    # 标记为\"x\"（区分目标值）\n",
    "    s=30,\n",
    "    c=\"red\",      # 颜色为蓝色\n",
    "    alpha=0.6,     # 透明度0.6（避免重叠遮挡）\n",
    "    label=\"Train\"  # 标签（用于图例）\n",
    ")\n",
    "\n",
    "# 4. 原有图表配置（保持不变，可补充图例）\n",
    "plt.title(f\"Toy1DDataset - {train_dataset_config.mode}\")\n",
    "plt.xlabel(\"x (Input)\")       # 明确x轴含义（input值）\n",
    "plt.ylabel(\"y (Prediction / Target)\")  # 明确y轴含义（包含预测和目标）\n",
    "plt.legend()  # 显示图例（区分两组数据，关键！）\n",
    "\n",
    "plt.savefig(\n",
    "    f\"{experiment.identifier}_plot.png\",\n",
    "    dpi=300,\n",
    "    bbox_inches=\"tight\",\n",
    "    facecolor=\"white\"\n",
    ")\n",
    "\n",
    "# 最后显示图片\n",
    "plt.show()\n"
   ]
  }
 ],
 "metadata": {
  "kernelspec": {
   "display_name": "ibc",
   "language": "python",
   "name": "python3"
  },
  "language_info": {
   "codemirror_mode": {
    "name": "ipython",
    "version": 3
   },
   "file_extension": ".py",
   "mimetype": "text/x-python",
   "name": "python",
   "nbconvert_exporter": "python",
   "pygments_lexer": "ipython3",
   "version": "3.8.20"
  }
 },
 "nbformat": 4,
 "nbformat_minor": 5
}
