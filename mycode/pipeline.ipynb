{
 "cells": [
  {
   "cell_type": "markdown",
   "id": "e2116e5c",
   "metadata": {},
   "source": [
    "# 2D 实验的notebook"
   ]
  },
  {
   "cell_type": "markdown",
   "id": "0ec8b257",
   "metadata": {},
   "source": [
    "1. 加载数据集\n",
    "2. 定义模型\n",
    "3. 开始训练\n",
    "4. 评估"
   ]
  },
  {
   "cell_type": "markdown",
   "id": "e53e67b3",
   "metadata": {},
   "source": [
    "还要对比explicit和implicit，先搭一个implicit的框架，后面再慢慢优化。"
   ]
  },
  {
   "cell_type": "markdown",
   "id": "710068a1",
   "metadata": {},
   "source": [
    "## 加载数据集\n",
    "- 数据集和验证集配置\n",
    "- 分割数据集和验证集"
   ]
  },
  {
   "cell_type": "code",
   "execution_count": 91,
   "id": "4315ee06",
   "metadata": {},
   "outputs": [],
   "source": [
    "import torch\n",
    "import os\n",
    "import sys\n",
    "import numpy as np\n",
    "import matplotlib.pyplot as plt\n",
    "\n",
    "notebook_dir = os.path.dirname(os.path.abspath(\"__file__\"))\n",
    "ibc_parent_dir = os.path.abspath(os.path.join(notebook_dir, \"..\"))\n",
    "sys.path.append(ibc_parent_dir)\n",
    "\n",
    "from tqdm.auto import tqdm\n",
    "from ibc import dataset, models, optimizers, trainer, utils\n",
    "from scipy.spatial import ConvexHull\n",
    "from ibc.trainer import PolicyType"
   ]
  },
  {
   "cell_type": "code",
   "execution_count": 92,
   "id": "19f33ac5",
   "metadata": {},
   "outputs": [
    {
     "name": "stdout",
     "output_type": "stream",
     "text": [
      "Resampled 1 data points.\n"
     ]
    }
   ],
   "source": [
    "train_dataset_config = dataset.DatasetConfig(\n",
    "    dataset_size=10,\n",
    "    seed=42, \n",
    "    # 其他参数默认\n",
    ")\n",
    "train_dataset = dataset.CoordinateRegression(train_dataset_config)  # data: coordinate regression shape:（N,2)\n",
    "train_dataloader = torch.utils.data.DataLoader(\n",
    "    train_dataset,\n",
    "    batch_size=8,\n",
    "    shuffle=True,\n",
    "    num_workers=1,\n",
    "    pin_memory=torch.cuda.is_available(),\n",
    ")\n",
    "\n",
    "# Test split.\n",
    "test_dataset_config = dataset.DatasetConfig(\n",
    "    dataset_size=500,\n",
    "    seed=42, \n",
    ")\n",
    "test_dataset = dataset.CoordinateRegression(test_dataset_config)\n",
    "test_dataset.exclude(train_dataset.coordinates)\n",
    "test_dataloader = torch.utils.data.DataLoader(\n",
    "    test_dataset,\n",
    "    batch_size=64,\n",
    "    shuffle=False,\n",
    "    num_workers=1,\n",
    "    pin_memory=torch.cuda.is_available(),\n",
    ")"
   ]
  },
  {
   "cell_type": "code",
   "execution_count": 93,
   "id": "5f2837c6",
   "metadata": {},
   "outputs": [
    {
     "name": "stdout",
     "output_type": "stream",
     "text": [
      "[[-1. -1.]\n",
      " [ 1.  1.]]\n"
     ]
    }
   ],
   "source": [
    "print(train_dataloader.dataset.get_target_bounds())"
   ]
  },
  {
   "cell_type": "code",
   "execution_count": 94,
   "id": "b52acd52",
   "metadata": {},
   "outputs": [
    {
     "name": "stdout",
     "output_type": "stream",
     "text": [
      "batch的类型: <class 'list'>\n",
      "batch包含的元素数量: 2\n",
      "batch[0].shape:torch.Size([8, 3, 96, 96])\n",
      "batch[1].shape:torch.Size([8, 2])\n",
      "tensor([ 0.8105, -0.3895])\n"
     ]
    },
    {
     "data": {
      "image/png": "[encoded data removed]",
      "text/plain": [
       "<Figure size 640x480 with 1 Axes>"
      ]
     },
     "metadata": {},
     "output_type": "display_data"
    }
   ],
   "source": [
    "batch = next(iter(train_dataloader))    # 可以更改为test_dataloader查看测试集的shape\n",
    "\n",
    "print(\"batch的类型:\", type(batch))  # data + label\n",
    "print(\"batch包含的元素数量:\", len(batch))\n",
    "\n",
    "for i in range(len(batch)):\n",
    "    print(\"batch[{}].shape:{}\".format(i, batch[i].shape))\n",
    "\n",
    "# Visualize one instance.\n",
    "image, target = train_dataset[np.random.randint(len(train_dataset))]\n",
    "print(target)\n",
    "plt.imshow(image.permute(1, 2, 0).numpy())\n",
    "plt.show()"
   ]
  },
  {
   "cell_type": "markdown",
   "id": "4ad2ae8b",
   "metadata": {},
   "source": [
    "## 构造网络模型"
   ]
  },
  {
   "cell_type": "markdown",
   "id": "9faa282f",
   "metadata": {},
   "source": [
    "**配置网络参数**"
   ]
  },
  {
   "cell_type": "markdown",
   "id": "2100cfdd",
   "metadata": {},
   "source": [
    "参数设置："
   ]
  },
  {
   "cell_type": "code",
   "execution_count": 95,
   "id": "0fd926b1",
   "metadata": {},
   "outputs": [],
   "source": [
    "coord_conv = True # 是否使用坐标卷积？\n",
    "in_channels = 3 # 输入通道数，对应RGB\n",
    "spatial_reduction = models.SpatialReduction.SPATIAL_SOFTMAX\n",
    "policy_type = PolicyType\n",
    "custom_dropout_prob = 0.1\n",
    "custom_learning_rate = 0.001\n",
    "custom_weight_decay = 0.0001\n",
    "\n",
    "implicit = True # 选择显式or隐式\n",
    "if implicit:\n",
    "    policy_type = trainer.PolicyType.IMPLICIT\n",
    "else:\n",
    "    policy_type = trainer.PolicyType.EXPLICIT"
   ]
  },
  {
   "cell_type": "markdown",
   "id": "467c9cfb",
   "metadata": {},
   "source": [
    "网络与优化器配置："
   ]
  },
  {
   "cell_type": "code",
   "execution_count": 96,
   "id": "713d7733",
   "metadata": {},
   "outputs": [
    {
     "name": "stdout",
     "output_type": "stream",
     "text": [
      "in channels: 5\n",
      "input dimension: 34\n"
     ]
    }
   ],
   "source": [
    "if coord_conv: # 如果启用坐标卷积（coord_conv），输入通道数+2（添加x/y坐标通道\n",
    "    in_channels += 2\n",
    "residual_blocks = [16, 32, 32]  # 残差块的数量和通道数\n",
    "cnn_config = models.CNNConfig(in_channels, residual_blocks) # CNN配置\n",
    "print(\"in channels:\", in_channels)\n",
    "\n",
    "input_dim = 16  # We have a 1x1 conv that reduces to 16 channels.\n",
    "output_dim = 2\n",
    "if spatial_reduction == models.SpatialReduction.SPATIAL_SOFTMAX:\n",
    "    input_dim *= 2\n",
    "if policy_type == trainer.PolicyType.IMPLICIT:\n",
    "    input_dim += 2  # Dimension of the targets. o+a\n",
    "    # print(\"input dimension:\", input_dim)\n",
    "    output_dim = 1\n",
    "\n",
    "print(\"input dimension:\", input_dim)\n",
    "\n",
    "mlp_config = models.MLPConfig(\n",
    "    input_dim=input_dim,\n",
    "    hidden_dim=256,\n",
    "    output_dim=output_dim,\n",
    "    hidden_depth=1,\n",
    "    dropout_prob=custom_dropout_prob,\n",
    ")\n",
    "\n",
    "model_config = models.ConvMLPConfig(\n",
    "    cnn_config=cnn_config,\n",
    "    mlp_config=mlp_config,\n",
    "    spatial_reduction=spatial_reduction,\n",
    "    coord_conv=coord_conv,\n",
    ")\n",
    "\n",
    "optim_config = optimizers.OptimizerConfig(\n",
    "    learning_rate=custom_learning_rate,\n",
    "    weight_decay=custom_weight_decay,\n",
    ")"
   ]
  },
  {
   "cell_type": "markdown",
   "id": "682e0f24",
   "metadata": {},
   "source": [
    "打印配置："
   ]
  },
  {
   "cell_type": "code",
   "execution_count": 97,
   "id": "19f903a6",
   "metadata": {},
   "outputs": [
    {
     "name": "stdout",
     "output_type": "stream",
     "text": [
      "mlp_config: MLPConfig(input_dim=34, hidden_dim=256, output_dim=1, hidden_depth=1, dropout_prob=0.1, activation_fn=<ActivationType.RELU: <class 'torch.nn.modules.activation.ReLU'>>)\n",
      "model_config: ConvMLPConfig(cnn_config=CNNConfig(in_channels=5, blocks=[16, 32, 32], activation_fn=<ActivationType.RELU: <class 'torch.nn.modules.activation.ReLU'>>), mlp_config=MLPConfig(input_dim=34, hidden_dim=256, output_dim=1, hidden_depth=1, dropout_prob=0.1, activation_fn=<ActivationType.RELU: <class 'torch.nn.modules.activation.ReLU'>>), spatial_reduction=<SpatialReduction.SPATIAL_SOFTMAX: <class 'ibc.modules.SpatialSoftArgmax'>>, coord_conv=True)\n",
      "optim_config: OptimizerConfig(learning_rate=0.001, weight_decay=0.0001, beta1=0.9, beta2=0.999, lr_scheduler_step=100, lr_scheduler_gamma=0.99)\n",
      "The network structure is: \n",
      " ConvMLP(\n",
      "  (cnn): CNN(\n",
      "    (net): Sequential(\n",
      "      (0): Conv2d(5, 16, kernel_size=(3, 3), stride=(1, 1), padding=(1, 1))\n",
      "      (1): ResidualBlock(\n",
      "        (conv1): Conv2d(16, 16, kernel_size=(3, 3), stride=(1, 1), padding=(1, 1))\n",
      "        (conv2): Conv2d(16, 16, kernel_size=(3, 3), stride=(1, 1), padding=(1, 1))\n",
      "        (activation): ReLU()\n",
      "      )\n",
      "      (2): Conv2d(16, 32, kernel_size=(3, 3), stride=(1, 1), padding=(1, 1))\n",
      "      (3): ResidualBlock(\n",
      "        (conv1): Conv2d(32, 32, kernel_size=(3, 3), stride=(1, 1), padding=(1, 1))\n",
      "        (conv2): Conv2d(32, 32, kernel_size=(3, 3), stride=(1, 1), padding=(1, 1))\n",
      "        (activation): ReLU()\n",
      "      )\n",
      "      (4): Conv2d(32, 32, kernel_size=(3, 3), stride=(1, 1), padding=(1, 1))\n",
      "      (5): ResidualBlock(\n",
      "        (conv1): Conv2d(32, 32, kernel_size=(3, 3), stride=(1, 1), padding=(1, 1))\n",
      "        (conv2): Conv2d(32, 32, kernel_size=(3, 3), stride=(1, 1), padding=(1, 1))\n",
      "        (activation): ReLU()\n",
      "      )\n",
      "    )\n",
      "    (activation): ReLU()\n",
      "  )\n",
      "  (conv): Conv2d(32, 16, kernel_size=(1, 1), stride=(1, 1))\n",
      "  (reducer): SpatialSoftArgmax()\n",
      "  (mlp): MLP(\n",
      "    (net): Sequential(\n",
      "      (0): Linear(in_features=34, out_features=256, bias=True)\n",
      "      (1): ReLU()\n",
      "      (2): Dropout(p=0.1, inplace=False)\n",
      "      (3): Linear(in_features=256, out_features=1, bias=True)\n",
      "    )\n",
      "  )\n",
      ")\n",
      "The whole network has 66001 parameters\n"
     ]
    }
   ],
   "source": [
    "print(\"mlp_config:\", mlp_config)\n",
    "print(\"model_config:\", model_config)\n",
    "print(\"optim_config:\", optim_config)\n",
    "net = models.ConvMLP(model_config)\n",
    "print(\"The network structure is: \\n\", net)\n",
    "print(\"The whole network has {} parameters\".format(sum(p.numel() for p in net.parameters())))"
   ]
  },
  {
   "cell_type": "markdown",
   "id": "c4e241f7",
   "metadata": {},
   "source": [
    "创建训练进程："
   ]
  },
  {
   "cell_type": "code",
   "execution_count": 98,
   "id": "e54d6b8c",
   "metadata": {},
   "outputs": [
    {
     "name": "stdout",
     "output_type": "stream",
     "text": [
      "Using device: cuda\n"
     ]
    }
   ],
   "source": [
    "train_state: trainer.TrainStateProtocol\n",
    "if policy_type == trainer.PolicyType.EXPLICIT:\n",
    "    train_state = trainer.ExplicitTrainState.initialize(\n",
    "        model_config=model_config,\n",
    "        optim_config=optim_config,\n",
    "        device_type=\"cuda\",\n",
    "    )\n",
    "else:\n",
    "    target_bounds = train_dataloader.dataset.get_target_bounds()\n",
    "    stochastic_optim_config = optimizers.DerivativeFreeConfig(\n",
    "        bounds=target_bounds,\n",
    "        train_samples=128,\n",
    "    )\n",
    "\n",
    "    train_state = trainer.ImplicitTrainState.initialize(\n",
    "        model_config=model_config,\n",
    "        optim_config=optim_config,\n",
    "        stochastic_optim_config=stochastic_optim_config,\n",
    "        device_type=\"cuda\",\n",
    "    )"
   ]
  },
  {
   "cell_type": "markdown",
   "id": "4ab74043",
   "metadata": {},
   "source": [
    "## 开始训练"
   ]
  },
  {
   "cell_type": "code",
   "execution_count": 99,
   "id": "c4d56a84",
   "metadata": {},
   "outputs": [],
   "source": [
    "from ibc.experiment import Experiment\n",
    "experiment = Experiment(\n",
    "    identifier = \"test_pipeline_10\", # custom experiment name\n",
    ").assert_new()\n",
    "\n",
    "checkpoint_every_n_steps = 100\n",
    "eval_every_n_steps = 1000\n",
    "log_every_n_steps = 10"
   ]
  },
  {
   "cell_type": "code",
   "execution_count": null,
   "id": "3e60f96c",
   "metadata": {},
   "outputs": [
    {
     "name": "stderr",
     "output_type": "stream",
     "text": [
      "  2%|▏         | 31/2000 [00:02<01:33, 21.17it/s]"
     ]
    }
   ],
   "source": [
    "for epoch in tqdm(range(2000)):\n",
    "    if not train_state.steps % checkpoint_every_n_steps:\n",
    "        experiment.save_checkpoint(train_state, step=train_state.steps)\n",
    "\n",
    "    if not train_state.steps % eval_every_n_steps:\n",
    "        test_log_data = train_state.evaluate(test_dataloader)\n",
    "        experiment.log(test_log_data, step=train_state.steps)\n",
    "\n",
    "    for batch in train_dataloader:\n",
    "        train_log_data = train_state.training_step(*batch)\n",
    "\n",
    "        # Log to tensorboard.\n",
    "        if not train_state.steps % log_every_n_steps:\n",
    "            experiment.log(train_log_data, step=train_state.steps)\n",
    "\n",
    "# Save one final checkpoint.\n",
    "experiment.save_checkpoint(train_state, step=train_state.steps)"
   ]
  }
 ],
 "metadata": {
  "kernelspec": {
   "display_name": "ibc",
   "language": "python",
   "name": "python3"
  },
  "language_info": {
   "codemirror_mode": {
    "name": "ipython",
    "version": 3
   },
   "file_extension": ".py",
   "mimetype": "text/x-python",
   "name": "python",
   "nbconvert_exporter": "python",
   "pygments_lexer": "ipython3",
   "version": "3.8.20"
  }
 },
 "nbformat": 4,
 "nbformat_minor": 5
}
